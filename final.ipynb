{
 "cells": [
  {
   "cell_type": "code",
   "execution_count": null,
   "metadata": {},
   "outputs": [],
   "source": [
    "#importing libraries\n",
    "\n",
    "import pandas as pd\n",
    "from sklearn.tree import DecisionTreeClassifier # Importing Decision Tree Classifier\n",
    "from sklearn.model_selection import train_test_split\n",
    "from sklearn import metrics"
   ]
  },
  {
   "cell_type": "code",
   "execution_count": 13,
   "metadata": {},
   "outputs": [],
   "source": [
    "df = pd.read_csv(\"heart.csv\")\n",
    "col_names = list(df.columns)"
   ]
  },
  {
   "cell_type": "code",
   "execution_count": 14,
   "metadata": {},
   "outputs": [],
   "source": [
    "features = ['thal', 'thalach', 'slope', 'exang', 'cp', 'oldpeak', 'ca', 'sex']"
   ]
  },
  {
   "cell_type": "code",
   "execution_count": 15,
   "metadata": {},
   "outputs": [],
   "source": [
    "X = df[features]\n",
    "y = df.target\n",
    "X_train,X_test,y_train,y_test = train_test_split(X,y,test_size = 0.3,random_state = 0)"
   ]
  },
  {
   "cell_type": "code",
   "execution_count": 16,
   "metadata": {},
   "outputs": [
    {
     "name": "stdout",
     "output_type": "stream",
     "text": [
      "Accuracy: 0.8461538461538461\n"
     ]
    }
   ],
   "source": [
    "clf = DecisionTreeClassifier(criterion = \"gini\",random_state = 0,max_depth = 6,max_features = 3,max_leaf_nodes = 19,min_samples_leaf = 2 )\n",
    "\n",
    "clf = clf.fit(X_train,y_train)\n",
    "y_pred = clf.predict(X_test)\n",
    "                #gini.append(tuple([i,j,k,l,metrics.accuracy_score(y3_test,y3_pred)]))\n",
    "print(\"Accuracy:\",metrics.accuracy_score(y_test,y_pred))"
   ]
  },
  {
   "cell_type": "code",
   "execution_count": 17,
   "metadata": {},
   "outputs": [],
   "source": [
    "#for deploying model the packages used are\n",
    "import pickle\n",
    "import requests\n",
    "import json"
   ]
  },
  {
   "cell_type": "code",
   "execution_count": 18,
   "metadata": {},
   "outputs": [],
   "source": [
    "pickle.dump(clf, open('model.pkl','wb'))"
   ]
  },
  {
   "cell_type": "code",
   "execution_count": 39,
   "metadata": {},
   "outputs": [],
   "source": [
    "from sklearn.tree import _tree\n",
    "import numpy as np\n",
    "d = {0 : \"no chance of heart disease\",1: \"chance of heart disease\"}\n",
    "def tree_to_code(tree, feature_names,file):\n",
    "    tree_ = tree.tree_\n",
    "    feature_name = [\n",
    "        feature_names[i] if i != _tree.TREE_UNDEFINED else \"undefined!\"\n",
    "        for i in tree_.feature\n",
    "    ]\n",
    "    file.write(\"def tree({}):\\n\".format(\", \".join(feature_names)))\n",
    "\n",
    "    def recurse(node, depth):\n",
    "        indent = \"        \" * depth\n",
    "        if tree_.feature[node] != _tree.TREE_UNDEFINED:\n",
    "            name = feature_name[node]\n",
    "            threshold = tree_.threshold[node]\n",
    "            #print (\"{}if {} <= {}:\".format(indent, name, threshold))\n",
    "            file.write(\"{}if {} <= {}:\\n\".format(indent, name, threshold))\n",
    "            recurse(tree_.children_left[node], depth + 1)\n",
    "            #print (\"{}else:  # if {} > {}\".format(indent, name, threshold))\n",
    "            file.write(\"{}else:  # if {} > {}\\n\".format(indent, name, threshold))\n",
    "            recurse(tree_.children_right[node], depth + 1)\n",
    "        else:\n",
    "            val = np.argmax(tree_.value[node][0])\n",
    "            #print(\"{}return {}\".format(indent,d[val]))\n",
    "            file.write(\"{}return {}\\n\".format(indent,d[val]))\n",
    "\n",
    "    recurse(0, 1)"
   ]
  },
  {
   "cell_type": "code",
   "execution_count": 24,
   "metadata": {},
   "outputs": [
    {
     "name": "stdout",
     "output_type": "stream",
     "text": [
      "def tree(thal, thalach, slope, exang, cp, oldpeak, ca, sex):\n",
      "    if thal <= 2.5:\n",
      "        if oldpeak <= 1.699999988079071:\n",
      "            if ca <= 0.5:\n",
      "                if thalach <= 158.5:\n",
      "                    return chance of heart disease\n",
      "                else:  # if thalach > 158.5\n",
      "                    return chance of heart disease\n",
      "            else:  # if ca > 0.5\n",
      "                if cp <= 0.5:\n",
      "                    return no chance of heart disease\n",
      "                else:  # if cp > 0.5\n",
      "                    if slope <= 1.5:\n",
      "                        if thal <= 1.5:\n",
      "                            return no chance of heart disease\n",
      "                        else:  # if thal > 1.5\n",
      "                            return chance of heart disease\n",
      "                    else:  # if slope > 1.5\n",
      "                        return chance of heart disease\n",
      "        else:  # if oldpeak > 1.699999988079071\n",
      "            if cp <= 1.5:\n",
      "                return no chance of heart disease\n",
      "            else:  # if cp > 1.5\n",
      "                return chance of heart disease\n",
      "    else:  # if thal > 2.5\n",
      "        if oldpeak <= 0.7000000178813934:\n",
      "            if thalach <= 140.5:\n",
      "                if slope <= 1.5:\n",
      "                    return no chance of heart disease\n",
      "                else:  # if slope > 1.5\n",
      "                    return chance of heart disease\n",
      "            else:  # if thalach > 140.5\n",
      "                if thalach <= 143.5:\n",
      "                    return no chance of heart disease\n",
      "                else:  # if thalach > 143.5\n",
      "                    if ca <= 0.5:\n",
      "                        return chance of heart disease\n",
      "                    else:  # if ca > 0.5\n",
      "                        if thalach <= 155.0:\n",
      "                            return no chance of heart disease\n",
      "                        else:  # if thalach > 155.0\n",
      "                            return no chance of heart disease\n",
      "        else:  # if oldpeak > 0.7000000178813934\n",
      "            if exang <= 0.5:\n",
      "                if cp <= 1.5:\n",
      "                    return no chance of heart disease\n",
      "                else:  # if cp > 1.5\n",
      "                    if oldpeak <= 1.949999988079071:\n",
      "                        if thalach <= 155.5:\n",
      "                            return no chance of heart disease\n",
      "                        else:  # if thalach > 155.5\n",
      "                            return chance of heart disease\n",
      "                    else:  # if oldpeak > 1.949999988079071\n",
      "                        return no chance of heart disease\n",
      "            else:  # if exang > 0.5\n",
      "                return no chance of heart disease\n"
     ]
    }
   ],
   "source": [
    "tree_to_code(clf,features)"
   ]
  },
  {
   "cell_type": "code",
   "execution_count": 40,
   "metadata": {},
   "outputs": [],
   "source": [
    "f = open(\"code1.py\",'w')"
   ]
  },
  {
   "cell_type": "code",
   "execution_count": 41,
   "metadata": {},
   "outputs": [],
   "source": [
    "#f.write(tree_to_code(clf,features))\n",
    "tree_to_code(clf,features,f)"
   ]
  },
  {
   "cell_type": "code",
   "execution_count": 42,
   "metadata": {},
   "outputs": [],
   "source": [
    "f.close()"
   ]
  },
  {
   "cell_type": "code",
   "execution_count": null,
   "metadata": {},
   "outputs": [],
   "source": []
  }
 ],
 "metadata": {
  "kernelspec": {
   "display_name": "Python 3",
   "language": "python",
   "name": "python3"
  },
  "language_info": {
   "codemirror_mode": {
    "name": "ipython",
    "version": 3
   },
   "file_extension": ".py",
   "mimetype": "text/x-python",
   "name": "python",
   "nbconvert_exporter": "python",
   "pygments_lexer": "ipython3",
   "version": "3.7.4"
  }
 },
 "nbformat": 4,
 "nbformat_minor": 2
}
