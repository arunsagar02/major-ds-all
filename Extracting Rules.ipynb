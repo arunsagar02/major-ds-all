{
 "cells": [
  {
   "cell_type": "code",
   "execution_count": 2,
   "metadata": {},
   "outputs": [],
   "source": [
    "import numpy as np\n",
    "from sklearn.model_selection import train_test_split\n",
    "from sklearn.datasets import load_iris\n",
    "from sklearn.tree import DecisionTreeClassifier"
   ]
  },
  {
   "cell_type": "code",
   "execution_count": 4,
   "metadata": {},
   "outputs": [],
   "source": [
    "iris_data = load_iris()\n",
    "X = iris_data.data\n",
    "Y = iris_data.target\n",
    "X_train, X_test, Y_train, Y_test = train_test_split(X,Y,random_state = 0)"
   ]
  },
  {
   "cell_type": "code",
   "execution_count": 5,
   "metadata": {},
   "outputs": [
    {
     "data": {
      "text/plain": [
       "DecisionTreeClassifier(class_weight=None, criterion='gini', max_depth=None,\n",
       "                       max_features=None, max_leaf_nodes=3,\n",
       "                       min_impurity_decrease=0.0, min_impurity_split=None,\n",
       "                       min_samples_leaf=1, min_samples_split=2,\n",
       "                       min_weight_fraction_leaf=0.0, presort=False,\n",
       "                       random_state=0, splitter='best')"
      ]
     },
     "execution_count": 5,
     "metadata": {},
     "output_type": "execute_result"
    }
   ],
   "source": [
    "model = DecisionTreeClassifier(max_leaf_nodes = 3,random_state = 0)\n",
    "model.fit(X_train,Y_train)"
   ]
  },
  {
   "cell_type": "code",
   "execution_count": 13,
   "metadata": {},
   "outputs": [],
   "source": [
    "from sklearn.tree import _tree\n",
    "\n",
    "def find_rules(tree, features):\n",
    "    Dt = tree.tree_\n",
    "    def visitor(node, depth):\n",
    "        indent = ' ' * depth\n",
    "        if Dt.feature[node] != _tree.TREE_UNDEFINED:\n",
    "            print('{}if <{}> <= {}:'.format(indent,features[node],round(Dt.threshold[node],2)))\n",
    "            visitor(Dt.children_left[node],depth + 1)\n",
    "            print('{}else:'.format(indent))\n",
    "            visitor(Dt.children_right[node],depth + 1)\n",
    "        else:\n",
    "            print('{}return{}'.format(indent,Dt.value[node]))\n",
    "    visitor(0,1)"
   ]
  },
  {
   "cell_type": "code",
   "execution_count": 14,
   "metadata": {},
   "outputs": [
    {
     "name": "stdout",
     "output_type": "stream",
     "text": [
      " if <sepal length (cm)> <= 0.8:\n",
      "  return[[37.  0.  0.]]\n",
      " else:\n",
      "  if <petal length (cm)> <= 4.95:\n",
      "   return[[ 0. 33.  3.]]\n",
      "  else:\n",
      "   return[[ 0.  1. 38.]]\n"
     ]
    }
   ],
   "source": [
    "find_rules(model,iris_data.feature_names)"
   ]
  },
  {
   "cell_type": "code",
   "execution_count": null,
   "metadata": {},
   "outputs": [],
   "source": []
  }
 ],
 "metadata": {
  "kernelspec": {
   "display_name": "Python 3",
   "language": "python",
   "name": "python3"
  },
  "language_info": {
   "codemirror_mode": {
    "name": "ipython",
    "version": 3
   },
   "file_extension": ".py",
   "mimetype": "text/x-python",
   "name": "python",
   "nbconvert_exporter": "python",
   "pygments_lexer": "ipython3",
   "version": "3.7.4"
  }
 },
 "nbformat": 4,
 "nbformat_minor": 2
}
